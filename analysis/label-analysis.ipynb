{
 "cells": [
  {
   "cell_type": "code",
   "execution_count": 1,
   "id": "initial_id",
   "metadata": {
    "collapsed": true,
    "ExecuteTime": {
     "end_time": "2024-04-02T11:09:27.616628362Z",
     "start_time": "2024-04-02T11:09:27.336696455Z"
    }
   },
   "outputs": [],
   "source": [
    "import pandas as pd\n",
    "import matplotlib.pyplot as plt"
   ]
  },
  {
   "cell_type": "code",
   "execution_count": 2,
   "outputs": [],
   "source": [
    "df = pd.read_csv('../labelling/formatted-filtered.csv')\n",
    "df.dropna(inplace=True)"
   ],
   "metadata": {
    "collapsed": false,
    "ExecuteTime": {
     "end_time": "2024-04-02T11:09:27.739726373Z",
     "start_time": "2024-04-02T11:09:27.713667295Z"
    }
   },
   "id": "cb7a98086f22702b"
  },
  {
   "cell_type": "code",
   "execution_count": 7,
   "outputs": [
    {
     "name": "stdout",
     "output_type": "stream",
     "text": [
      "Application, Total megabits, Average megabits\n",
      "Unknown 0.296408 0.0005172914485165794\n",
      "Application, Total megabits, Average megabits\n",
      "HTTP 40.639176 0.04134198982706002\n",
      "Application, Total megabits, Average megabits\n",
      "RDP 0.00096 0.00048\n",
      "Application, Total megabits, Average megabits\n",
      "Alibaba 0.00576 0.00048\n",
      "Application, Total megabits, Average megabits\n",
      "Syslog 0.00096 0.00048\n",
      "Application, Total megabits, Average megabits\n",
      "Telnet 0.00624 0.000624\n",
      "Application, Total megabits, Average megabits\n",
      "MsSQL-TDS 0.00336 0.000672\n",
      "Application, Total megabits, Average megabits\n",
      "DNS 0.71068 0.0019417486338797814\n",
      "Application, Total megabits, Average megabits\n",
      "DNP3 0.00096 0.00048\n",
      "Application, Total megabits, Average megabits\n",
      "SMBv23 0.00096 0.00048\n",
      "Application, Total megabits, Average megabits\n",
      "HTTP_Proxy 0.097504 0.024376\n",
      "Application, Total megabits, Average megabits\n",
      "POP3 0.00048 0.00048\n",
      "Application, Total megabits, Average megabits\n",
      "RTSP 0.00048 0.00048\n",
      "Application, Total megabits, Average megabits\n",
      "IPSec 0.153888 0.017098666666666668\n",
      "Application, Total megabits, Average megabits\n",
      "Service_Location_Protocol 0.001048 0.000524\n",
      "Application, Total megabits, Average megabits\n",
      "FINS 0.00048 0.00048\n",
      "Application, Total megabits, Average megabits\n",
      "SMTPS 0.00048 0.00048\n",
      "Application, Total megabits, Average megabits\n",
      "Ceph 0.00048 0.00048\n",
      "Application, Total megabits, Average megabits\n",
      "Git 0.00048 0.00048\n",
      "Application, Total megabits, Average megabits\n",
      "SIP 0.054112 0.003006222222222222\n",
      "Application, Total megabits, Average megabits\n",
      "IMAP 0.00096 0.00048\n",
      "Application, Total megabits, Average megabits\n",
      "BGP 0.00048 0.00048\n",
      "Application, Total megabits, Average megabits\n",
      "POPS 0.00048 0.00048\n",
      "Application, Total megabits, Average megabits\n",
      "BITCOIN 0.00048 0.00048\n",
      "Application, Total megabits, Average megabits\n",
      "EthernetIP 0.00048 0.00048\n",
      "Application, Total megabits, Average megabits\n",
      "SSH 0.00096 0.00048\n",
      "Application, Total megabits, Average megabits\n",
      "TLS 1038.13468 2.798206684636119\n",
      "Application, Total megabits, Average megabits\n",
      "ETHEREUM 0.00048 0.00048\n",
      "Application, Total megabits, Average megabits\n",
      "DCERPC 0.00048 0.00048\n",
      "Application, Total megabits, Average megabits\n",
      "GoogleCloud 0.00192 0.00064\n",
      "Application, Total megabits, Average megabits\n",
      "RSYNC 0.00048 0.00048\n",
      "Application, Total megabits, Average megabits\n",
      "Azure 0.00096 0.00096\n",
      "Application, Total megabits, Average megabits\n",
      "GoogleServices 132.873352 0.26951998377281944\n",
      "Application, Total megabits, Average megabits\n",
      "Facebook 33.218 0.22597278911564628\n",
      "Application, Total megabits, Average megabits\n",
      "YouTube 110.780072 0.7434904161073825\n",
      "Application, Total megabits, Average megabits\n",
      "Instagram 1835.181264 5.629390380368099\n",
      "Application, Total megabits, Average megabits\n",
      "TikTok 4374.548208 8.696914926441353\n",
      "Application, Total megabits, Average megabits\n",
      "WhatsAppFiles 70.425896 7.825099555555556\n",
      "Application, Total megabits, Average megabits\n",
      "DoH_DoT 3.034728 0.04335325714285715\n",
      "Application, Total megabits, Average megabits\n",
      "Google 1182.85792 5.165318427947598\n",
      "Application, Total megabits, Average megabits\n",
      "WhatsApp 2.313776 0.041317428571428574\n",
      "Application, Total megabits, Average megabits\n",
      "Xiaomi 1.094024 0.04207784615384615\n",
      "Application, Total megabits, Average megabits\n",
      "FbookReelStory 71.619928 1.2348263448275862\n",
      "Application, Total megabits, Average megabits\n",
      "Crashlytics 0.428568 0.053571\n",
      "Application, Total megabits, Average megabits\n",
      "GMail 3.92588 1.3086266666666668\n",
      "Application, Total megabits, Average megabits\n",
      "NetFlix 2.340192 0.06324843243243243\n",
      "Application, Total megabits, Average megabits\n",
      "ADS_Analytic_Track 0.826416 0.16528320000000002\n",
      "Application, Total megabits, Average megabits\n",
      "Cybersec 0.295808 0.015568842105263159\n",
      "Application, Total megabits, Average megabits\n",
      "Cloudflare 0.05596 0.05596\n",
      "Application, Total megabits, Average megabits\n",
      "Microsoft365 0.147528 0.036882\n",
      "Application, Total megabits, Average megabits\n",
      "Messenger 0.93388 0.05493411764705883\n",
      "Application, Total megabits, Average megabits\n",
      "Github 0.065984 0.02199466666666667\n",
      "Application, Total megabits, Average megabits\n",
      "UbuntuONE 73.439344 12.239890666666666\n",
      "Application, Total megabits, Average megabits\n",
      "WindowsUpdate 0.01964 0.006546666666666667\n",
      "Application, Total megabits, Average megabits\n",
      "SoundCloud 1.088 1.088\n",
      "Application, Total megabits, Average megabits\n",
      "Tencent 0.001584 0.000528\n",
      "Application, Total megabits, Average megabits\n",
      "MySQL 0.00096 0.00048\n",
      "Application, Total megabits, Average megabits\n",
      "VNC 0.00048 0.00048\n",
      "Application, Total megabits, Average megabits\n",
      "Citrix 0.00048 0.00048\n",
      "Application, Total megabits, Average megabits\n",
      "NFS 0.00096 0.00048\n",
      "Application, Total megabits, Average megabits\n",
      "QUIC 0.54512 0.06056888888888889\n",
      "Application, Total megabits, Average megabits\n",
      "SNMP 0.00068 0.00068\n",
      "Application, Total megabits, Average megabits\n",
      "OICQ 0.00048 0.00048\n",
      "Application, Total megabits, Average megabits\n",
      "BitTorrent 0.00496 0.00124\n",
      "Application, Total megabits, Average megabits\n",
      "OpenVPN 0.52168 0.13042\n",
      "Application, Total megabits, Average megabits\n",
      "Radius 1.503888 0.003298\n",
      "Application, Total megabits, Average megabits\n",
      "AmazonAWS 2.08308 0.002680926640926641\n",
      "Application, Total megabits, Average megabits\n",
      "NTP 0.1404 0.001755\n",
      "Application, Total megabits, Average megabits\n",
      "Microsoft 0.170224 0.002503294117647059\n",
      "Application, Total megabits, Average megabits\n",
      "PlayStore 0.006624 0.002208\n",
      "Application, Total megabits, Average megabits\n",
      "STUN 1.216528 0.08110186666666667\n",
      "Application, Total megabits, Average megabits\n",
      "Apple 0.004768 0.002384\n",
      "Application, Total megabits, Average megabits\n",
      "Ether-S-Bus 0.00152 0.00152\n",
      "Application, Total megabits, Average megabits\n",
      "TargusDataspeed 0.00176 0.00176\n"
     ]
    }
   ],
   "source": [
    "labeled_data = open('../labelling/formatted-filtered.csv', 'r')\n",
    "lines = labeled_data.readlines()\n",
    "bytes = {}\n",
    "avg_flow_len = {'label':[], 'AverageFlowLen': []}\n",
    "toal_flow_len = {'label':[], 'TotalFlowLen': []}\n",
    "count = 0\n",
    "for line in lines:\n",
    "    if count == 0:\n",
    "        count += 1\n",
    "        continue\n",
    "    line_arr = line.split(\",\")\n",
    "    label = line_arr[1]\n",
    "    num_bytes = line_arr[3]\n",
    "    if label in bytes:\n",
    "        bytes[label].append(float(num_bytes.strip('\\n')))\n",
    "    else:\n",
    "        try:\n",
    "            bytes[label] = [float(num_bytes.strip('\\n'))]\n",
    "        except Exception:\n",
    "            continue\n",
    "for k in bytes.keys():\n",
    "    total = 0\n",
    "    number_of_flows = len(bytes[k])\n",
    "    for amount in bytes[k]:\n",
    "        total += amount\n",
    "    print('Application, Total megabits, Average megabits')\n",
    "    print(k, total/125000, total/number_of_flows/125000)\n",
    "    avg_flow_len['label'].append(k)\n",
    "    avg_flow_len['AverageFlowLen'].append((total/number_of_flows/125000))\n",
    "    toal_flow_len['label'].append(k)\n",
    "    toal_flow_len['TotalFlowLen'].append((total/125000))"
   ],
   "metadata": {
    "collapsed": false,
    "ExecuteTime": {
     "end_time": "2024-04-02T11:15:56.131062875Z",
     "start_time": "2024-04-02T11:15:56.126205809Z"
    }
   },
   "id": "46ba60ad0bcacc69"
  },
  {
   "cell_type": "code",
   "execution_count": 4,
   "outputs": [
    {
     "data": {
      "text/plain": "label\nHTTP               983\nAmazonAWS          777\nUnknown            573\nTikTok             503\nGoogleServices     493\n                  ... \nBITCOIN              1\nEthernetIP           1\nAzure                1\nRSYNC                1\nTargusDataspeed      1\nName: count, Length: 74, dtype: int64"
     },
     "execution_count": 4,
     "metadata": {},
     "output_type": "execute_result"
    }
   ],
   "source": [
    "df_labels = df.label.value_counts(ascending=False)\n",
    "df_labels"
   ],
   "metadata": {
    "collapsed": false,
    "ExecuteTime": {
     "end_time": "2024-04-02T11:09:30.433268892Z",
     "start_time": "2024-04-02T11:09:30.420241652Z"
    }
   },
   "id": "c9b063ded95e9b5c"
  },
  {
   "cell_type": "code",
   "execution_count": 5,
   "outputs": [
    {
     "data": {
      "text/plain": "            label  AverageFlowLen\n52      UbuntuONE       12.239891\n36         TikTok        8.696915\n37  WhatsAppFiles        7.825100\n35      Instagram        5.629390\n39         Google        5.165318\n..            ...             ...\n12           RTSP        0.000480\n20           IMAP        0.000480\n15           FINS        0.000480\n16          SMTPS        0.000480\n56          MySQL        0.000480\n\n[74 rows x 2 columns]",
      "text/html": "<div>\n<style scoped>\n    .dataframe tbody tr th:only-of-type {\n        vertical-align: middle;\n    }\n\n    .dataframe tbody tr th {\n        vertical-align: top;\n    }\n\n    .dataframe thead th {\n        text-align: right;\n    }\n</style>\n<table border=\"1\" class=\"dataframe\">\n  <thead>\n    <tr style=\"text-align: right;\">\n      <th></th>\n      <th>label</th>\n      <th>AverageFlowLen</th>\n    </tr>\n  </thead>\n  <tbody>\n    <tr>\n      <th>52</th>\n      <td>UbuntuONE</td>\n      <td>12.239891</td>\n    </tr>\n    <tr>\n      <th>36</th>\n      <td>TikTok</td>\n      <td>8.696915</td>\n    </tr>\n    <tr>\n      <th>37</th>\n      <td>WhatsAppFiles</td>\n      <td>7.825100</td>\n    </tr>\n    <tr>\n      <th>35</th>\n      <td>Instagram</td>\n      <td>5.629390</td>\n    </tr>\n    <tr>\n      <th>39</th>\n      <td>Google</td>\n      <td>5.165318</td>\n    </tr>\n    <tr>\n      <th>...</th>\n      <td>...</td>\n      <td>...</td>\n    </tr>\n    <tr>\n      <th>12</th>\n      <td>RTSP</td>\n      <td>0.000480</td>\n    </tr>\n    <tr>\n      <th>20</th>\n      <td>IMAP</td>\n      <td>0.000480</td>\n    </tr>\n    <tr>\n      <th>15</th>\n      <td>FINS</td>\n      <td>0.000480</td>\n    </tr>\n    <tr>\n      <th>16</th>\n      <td>SMTPS</td>\n      <td>0.000480</td>\n    </tr>\n    <tr>\n      <th>56</th>\n      <td>MySQL</td>\n      <td>0.000480</td>\n    </tr>\n  </tbody>\n</table>\n<p>74 rows × 2 columns</p>\n</div>"
     },
     "execution_count": 5,
     "metadata": {},
     "output_type": "execute_result"
    }
   ],
   "source": [
    "df_avg_flow_len = pd.DataFrame.from_dict(avg_flow_len)\n",
    "df_avg_flow_len.sort_values(['AverageFlowLen'], inplace=True, ascending=False)\n",
    "df_avg_flow_len"
   ],
   "metadata": {
    "collapsed": false,
    "ExecuteTime": {
     "end_time": "2024-04-02T11:09:36.073581195Z",
     "start_time": "2024-04-02T11:09:36.066293098Z"
    }
   },
   "id": "ff0252d54cf09c73"
  },
  {
   "cell_type": "code",
   "execution_count": 6,
   "outputs": [
    {
     "data": {
      "text/plain": "             label  TotalFlowLen\n36          TikTok   4374.548208\n35       Instagram   1835.181264\n39          Google   1182.857920\n26             TLS   1038.134680\n32  GoogleServices    132.873352\n..             ...           ...\n17            Ceph      0.000480\n28          DCERPC      0.000480\n16           SMTPS      0.000480\n15            FINS      0.000480\n27        ETHEREUM      0.000480\n\n[74 rows x 2 columns]",
      "text/html": "<div>\n<style scoped>\n    .dataframe tbody tr th:only-of-type {\n        vertical-align: middle;\n    }\n\n    .dataframe tbody tr th {\n        vertical-align: top;\n    }\n\n    .dataframe thead th {\n        text-align: right;\n    }\n</style>\n<table border=\"1\" class=\"dataframe\">\n  <thead>\n    <tr style=\"text-align: right;\">\n      <th></th>\n      <th>label</th>\n      <th>TotalFlowLen</th>\n    </tr>\n  </thead>\n  <tbody>\n    <tr>\n      <th>36</th>\n      <td>TikTok</td>\n      <td>4374.548208</td>\n    </tr>\n    <tr>\n      <th>35</th>\n      <td>Instagram</td>\n      <td>1835.181264</td>\n    </tr>\n    <tr>\n      <th>39</th>\n      <td>Google</td>\n      <td>1182.857920</td>\n    </tr>\n    <tr>\n      <th>26</th>\n      <td>TLS</td>\n      <td>1038.134680</td>\n    </tr>\n    <tr>\n      <th>32</th>\n      <td>GoogleServices</td>\n      <td>132.873352</td>\n    </tr>\n    <tr>\n      <th>...</th>\n      <td>...</td>\n      <td>...</td>\n    </tr>\n    <tr>\n      <th>17</th>\n      <td>Ceph</td>\n      <td>0.000480</td>\n    </tr>\n    <tr>\n      <th>28</th>\n      <td>DCERPC</td>\n      <td>0.000480</td>\n    </tr>\n    <tr>\n      <th>16</th>\n      <td>SMTPS</td>\n      <td>0.000480</td>\n    </tr>\n    <tr>\n      <th>15</th>\n      <td>FINS</td>\n      <td>0.000480</td>\n    </tr>\n    <tr>\n      <th>27</th>\n      <td>ETHEREUM</td>\n      <td>0.000480</td>\n    </tr>\n  </tbody>\n</table>\n<p>74 rows × 2 columns</p>\n</div>"
     },
     "execution_count": 6,
     "metadata": {},
     "output_type": "execute_result"
    }
   ],
   "source": [
    "df_total_flow_len = pd.DataFrame.from_dict(toal_flow_len)\n",
    "df_total_flow_len.sort_values(['TotalFlowLen'], inplace=True, ascending=False)\n",
    "df_total_flow_len"
   ],
   "metadata": {
    "collapsed": false,
    "ExecuteTime": {
     "end_time": "2024-04-02T11:09:40.780124608Z",
     "start_time": "2024-04-02T11:09:40.776492777Z"
    }
   },
   "id": "7d40ca0b486d8c91"
  },
  {
   "cell_type": "code",
   "execution_count": null,
   "outputs": [],
   "source": [],
   "metadata": {
    "collapsed": false
   },
   "id": "f0c1917d93c939a9"
  }
 ],
 "metadata": {
  "kernelspec": {
   "display_name": "Python 3",
   "language": "python",
   "name": "python3"
  },
  "language_info": {
   "codemirror_mode": {
    "name": "ipython",
    "version": 2
   },
   "file_extension": ".py",
   "mimetype": "text/x-python",
   "name": "python",
   "nbconvert_exporter": "python",
   "pygments_lexer": "ipython2",
   "version": "2.7.6"
  }
 },
 "nbformat": 4,
 "nbformat_minor": 5
}
